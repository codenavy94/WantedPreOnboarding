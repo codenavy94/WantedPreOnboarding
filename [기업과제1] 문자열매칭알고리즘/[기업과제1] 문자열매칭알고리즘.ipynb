{
 "cells": [
  {
   "cell_type": "markdown",
   "metadata": {},
   "source": [
    "## 문자열 매칭 알고리즘 구현\n",
    "\n",
    "- 작성자: 9팀 강민지"
   ]
  },
  {
   "cell_type": "markdown",
   "metadata": {},
   "source": [
    "문자열 집합 S가 존재한다 ex) S = {\"www\", \"xman\", \"yman\"}. 임의의 문자열이 N개 주어졌을 때, 각 임의의 문자열 내에 집합 S에 속하는 문자열이 존재하는지 판별하시오.\n",
    "\n",
    "#### 입력\n",
    "첫째 줄에 집합 S의 크기 N이 주어진다. (1 $\\leq$ N $\\leq$ 1000)  \n",
    "다음 N개 줄에 집합 S의 원소들이 주어진다. 이 문자열의 길이는 100을 넘지 않는다.  \n",
    "다음 줄에 답을 판별해야 하는 문자열의 개수 Q가 주어진다. (1 $\\leq$ Q $\\leq$ 1000)  \n",
    "다음 Q개 줄에 답을 판별해야 하는 문자열이 주어진다. 이 문자열의 길이는 10000을 넘지 않는다.  \n",
    "입력으로 주어지는 모든 문자열은 알파벳 소문자로만 이루어져 있다.\n",
    "\n",
    "#### 예제 입력\n",
    "9 (문자열 집합 S의 원소 개수)  \n",
    "\"aaa,aaaabb,aabbcc,abb,bcc,bbcc,aabbccdd,aaabb,cccd\" (입력 방식은 comma로 구분된다고 전제)  \n",
    "1 (매칭 대상 문자열 수)  \n",
    "\"aaaabbaabbccdd\"\n",
    "\n",
    "#### 출력\n",
    "Q개 줄에 각 문자열에 대한 답을 출력한다."
   ]
  },
  {
   "cell_type": "markdown",
   "metadata": {},
   "source": [
    "### 문제 1.\n",
    "문자열의 여러 부분 문자열 중 하나라도 집합 S에 있으면 'YES'를 출력하고, 아무것도 없으면 'NO'를 출력한다."
   ]
  },
  {
   "cell_type": "code",
   "execution_count": null,
   "metadata": {},
   "outputs": [],
   "source": [
    "substring_N = int(input())\n",
    "substring_lst = input().split(',')\n",
    "string_N = int(input())\n",
    "\n",
    "for _ in range(string_N):\n",
    "    string = input()\n",
    "    result = []\n",
    "    \n",
    "    for substring in substring_lst:\n",
    "        if substring in string:\n",
    "            result.append('YES')\n",
    "        else:\n",
    "            result.append('NO')\n",
    "    \n",
    "    print(', '.join(result))"
   ]
  },
  {
   "cell_type": "markdown",
   "metadata": {},
   "source": [
    "### 문제 2.\n",
    "주어진 문자열의 여러 부분 문자열 중 처음 매칭된 패턴과 문자열 시작 포지션을 출력한다.\n",
    "\n",
    "- 예제 출력  \n",
    "#pos = 0, pattern = aaa  \n",
    "#pos = 0, pattern = aaaabb  \n",
    "#pos = 6, pattern = aabbcc  \n",
    "#pos = 3, pattern = abb  \n",
    "#pos = 9, pattern = bcc  \n",
    "#pos = 8, pattern = bbcc  \n",
    "#pos = 6, pattern = aabbccdd  \n",
    "#pos = 1, pattern = aaabb\n"
   ]
  },
  {
   "cell_type": "code",
   "execution_count": null,
   "metadata": {},
   "outputs": [],
   "source": [
    "substring_N = int(input())\n",
    "substring_lst = input().split(',')\n",
    "string_N = int(input())\n",
    "\n",
    "for _ in range(string_N):\n",
    "    string = input()\n",
    "\n",
    "    for substring in substring_lst:\n",
    "        substr_index = string.find(substring)\n",
    "        \n",
    "        if substr_index != -1:\n",
    "            print(f\"#pos = {substr_index}, pattern = {substring}\")"
   ]
  },
  {
   "cell_type": "markdown",
   "metadata": {},
   "source": [
    "### 문제 3.\n",
    "주어진 문자열의 여러 부분 문자열 중 매치 가능한 모든 패턴과 문자열 시작 포지션을 출력한다.\n",
    "\n",
    "- 예제 출력  \n",
    "#pos = 0, pattern = aaa  \n",
    "#pos = 1, pattern = aaa  \n",
    "#pos = 1, pattern = aaabb  \n",
    "#pos = 3, pattern = abb  \n",
    "#pos = 0, pattern = aaaabb  \n",
    "#pos = 7, pattern = abb  \n",
    "#pos = 8, pattern = bbcc  \n",
    "#pos = 9, pattern = bcc  \n",
    "#pos = 6, pattern = aabbcc  \n",
    "#pos = 6, pattern = aabbccdd\n"
   ]
  },
  {
   "cell_type": "code",
   "execution_count": null,
   "metadata": {},
   "outputs": [],
   "source": [
    "substring_N = int(input())\n",
    "substring_lst = input().split(',')\n",
    "string_N = int(input())\n",
    "\n",
    "for _ in range(string_N):\n",
    "    string = input()\n",
    "\n",
    "    for substring in substring_lst:\n",
    "        substr_index = 0\n",
    "        \n",
    "        while substr_index < len(string):\n",
    "            substr_index = string.find(substring, substr_index)\n",
    "            \n",
    "            if substr_index == -1:\n",
    "                break\n",
    "            else:\n",
    "                print(f\"#pos = {substr_index}, pattern = {substring}\")\n",
    "                substr_index += 1"
   ]
  }
 ],
 "metadata": {
  "interpreter": {
   "hash": "eb98f1078c0bf0908da4d541c97382695dcf7ee9c0c20aad61f626557213d022"
  },
  "kernelspec": {
   "display_name": "Python 3.8.11 ('workspace')",
   "language": "python",
   "name": "python3"
  },
  "language_info": {
   "codemirror_mode": {
    "name": "ipython",
    "version": 3
   },
   "file_extension": ".py",
   "mimetype": "text/x-python",
   "name": "python",
   "nbconvert_exporter": "python",
   "pygments_lexer": "ipython3",
   "version": "3.8.11"
  },
  "orig_nbformat": 4
 },
 "nbformat": 4,
 "nbformat_minor": 2
}
